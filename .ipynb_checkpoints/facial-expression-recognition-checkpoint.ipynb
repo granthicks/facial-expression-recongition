{
 "cells": [
  {
   "cell_type": "code",
   "execution_count": 50,
   "metadata": {
    "ExecuteTime": {
     "end_time": "2021-03-12T22:22:36.578640Z",
     "start_time": "2021-03-12T22:22:36.514732Z"
    },
    "id": "alVjpR7ktp50"
   },
   "outputs": [],
   "source": [
    "import numpy as np\n",
    "import pandas as pd\n",
    "import matplotlib.pyplot as plt\n",
    "import seaborn as sns\n",
    "import os\n",
    "\n",
    "from tensorflow.keras.models import Sequential\n",
    "from tensorflow.keras.optimizers import Adam\n",
    "from tensorflow.keras.preprocessing.image import ImageDataGenerator\n",
    "from tensorflow.keras.layers import Conv2D, Dense, Dropout, MaxPooling2D, Flatten\n",
    "from tensorflow.keras.callbacks import EarlyStopping, ModelCheckpoint, ReduceLROnPlateau, TensorBoard\n",
    "\n",
    "from sklearn.metrics import confusion_matrix, plot_confusion_matrix\n",
    "\n",
    "plt.style.use('ggplot')"
   ]
  },
  {
   "cell_type": "markdown",
   "metadata": {},
   "source": [
    "## Reading in the data"
   ]
  },
  {
   "cell_type": "code",
   "execution_count": 2,
   "metadata": {
    "ExecuteTime": {
     "end_time": "2021-03-12T21:33:59.554830Z",
     "start_time": "2021-03-12T21:33:59.550845Z"
    },
    "colab": {
     "base_uri": "https://localhost:8080/"
    },
    "id": "vXpwhEiwCdNB",
    "outputId": "0b9e6219-2529-4fd3-a778-c8f26e9af3db"
   },
   "outputs": [],
   "source": [
    "# Unzipping the limited dataset\n",
    "# Data has been compressed for ease of use in Google Collab\n",
    "# The original data has been limited to just 4 categories: 'angry', 'happy', 'neutral', and 'sad'\n",
    "\n",
    "# If data is already unzipped this can be left commented out, otherwise uncomment the command to unzip\n",
    "# the image files.\n",
    "\n",
    "\n",
    "# !unzip ./content/limited.zip"
   ]
  },
  {
   "cell_type": "code",
   "execution_count": 2,
   "metadata": {
    "ExecuteTime": {
     "end_time": "2021-03-12T21:35:52.731313Z",
     "start_time": "2021-03-12T21:35:52.663463Z"
    },
    "colab": {
     "base_uri": "https://localhost:8080/"
    },
    "id": "ZvHMlhyrtxWN",
    "outputId": "a339f830-cd63-4d9e-c298-aa3ba520b16b"
   },
   "outputs": [
    {
     "name": "stdout",
     "output_type": "stream",
     "text": [
      "Train\n",
      "{'angry': 3995, 'happy': 7215, 'neutral': 4965, 'sad': 4830}\n",
      "\n",
      "Test\n",
      "{'angry': 958, 'happy': 1774, 'neutral': 1233, 'sad': 1247}\n"
     ]
    }
   ],
   "source": [
    "# When unzipped the files will be in the 'limited' directory\n",
    "\n",
    "# Test and train directories\n",
    "train_dir = './limited/train'\n",
    "test_dir = './limited/test'\n",
    "\n",
    "\n",
    "# Train count\n",
    "train_expression_list = [expression for expression in os.listdir(train_dir)]\n",
    "train_count_dict = {}\n",
    "for expression in train_expression_list:\n",
    "    train_count_dict[expression] = len(\n",
    "        os.listdir(train_dir + '/' + expression))\n",
    "\n",
    "\n",
    "# Test count\n",
    "test_expression_list = [expression for expression in os.listdir(test_dir)]\n",
    "test_count_dict = {}\n",
    "for expression in test_expression_list:\n",
    "    test_count_dict[expression] = len(os.listdir(test_dir + '/' + expression))\n",
    "\n",
    "# Printing out the number of images for each category\n",
    "print(\"Train\")\n",
    "print(train_count_dict)\n",
    "print()\n",
    "print('Test')\n",
    "print(test_count_dict)"
   ]
  },
  {
   "cell_type": "code",
   "execution_count": null,
   "metadata": {},
   "outputs": [],
   "source": [
    "# PERCENTAGES HERE"
   ]
  },
  {
   "cell_type": "code",
   "execution_count": 3,
   "metadata": {
    "ExecuteTime": {
     "end_time": "2021-03-12T21:36:13.998522Z",
     "start_time": "2021-03-12T21:36:12.857838Z"
    },
    "colab": {
     "base_uri": "https://localhost:8080/"
    },
    "id": "UVLMyFBtuTwR",
    "outputId": "181114f1-3877-41f7-d0bc-52490196b93c"
   },
   "outputs": [
    {
     "name": "stdout",
     "output_type": "stream",
     "text": [
      "Found 21005 images belonging to 4 classes.\n",
      "Found 5212 images belonging to 4 classes.\n"
     ]
    }
   ],
   "source": [
    "# Generating data from the images. This will add some shift, zoom, and rotation to the images\n",
    "# to help the model learn better from a wider range.\n",
    "\n",
    "train_datagen = ImageDataGenerator(rescale=1./255,\n",
    "                                   height_shift_range=0.1,\n",
    "                                   width_shift_range=0.1,\n",
    "                                   zoom_range=0.2,\n",
    "                                   horizontal_flip=True,\n",
    "                                   rotation_range=20)\n",
    "\n",
    "train_set = train_datagen.flow_from_directory(train_dir,\n",
    "                                              batch_size=32,\n",
    "                                              target_size=(48, 48),\n",
    "                                              shuffle=True,\n",
    "                                              color_mode='grayscale',\n",
    "                                              class_mode='categorical')\n",
    "\n",
    "test_datagen = ImageDataGenerator(rescale=1./255)\n",
    "test_set = test_datagen.flow_from_directory(test_dir,\n",
    "                                            batch_size=32,\n",
    "                                            target_size=(48, 48),\n",
    "                                            shuffle=True,\n",
    "                                            color_mode='grayscale',\n",
    "                                            class_mode='categorical')"
   ]
  },
  {
   "cell_type": "code",
   "execution_count": 4,
   "metadata": {
    "ExecuteTime": {
     "end_time": "2021-03-12T21:36:14.820065Z",
     "start_time": "2021-03-12T21:36:14.813084Z"
    },
    "colab": {
     "base_uri": "https://localhost:8080/"
    },
    "id": "rAdz99qeuVvA",
    "outputId": "565f5f0e-a958-457b-d635-062d913b9fd7"
   },
   "outputs": [
    {
     "data": {
      "text/plain": [
       "{'angry': 0, 'happy': 1, 'neutral': 2, 'sad': 3}"
      ]
     },
     "execution_count": 4,
     "metadata": {},
     "output_type": "execute_result"
    }
   ],
   "source": [
    "# Checking the indicies for each expression\n",
    "\n",
    "train_set.class_indices"
   ]
  },
  {
   "cell_type": "markdown",
   "metadata": {
    "ExecuteTime": {
     "end_time": "2021-03-12T21:19:01.720760Z",
     "start_time": "2021-03-12T21:19:01.712780Z"
    }
   },
   "source": [
    "3995 angry \n",
    "7215 happy\n",
    "4965 neutral\n",
    "4830 sad"
   ]
  },
  {
   "cell_type": "markdown",
   "metadata": {},
   "source": [
    "## Building the model"
   ]
  },
  {
   "cell_type": "markdown",
   "metadata": {},
   "source": [
    "Since I am working with images I will use a convolutional neural network to predict expressions in the images. Building the model involves several functions from the Keras library.\n",
    "\n",
    "`Sequential()` - A model comprised of stacks of layers moving from the initial input layer to the final output layer. Different types of layers can be used in the sequential model. More information on the sequential model can be found [here](https://keras.io/guides/sequential_model/).\n",
    "\n",
    "`model.add(Conv2D())` - A 2D convolution layer for spatial convolution over images. These layers will use a filter to produce a feature map from the image. More information on 2D convolution layers can be found in the Keras documentation [here](https://keras.io/api/layers/convolution_layers/convolution2d/).\n",
    "\n",
    "`model.add(MaxPooling2D())` - These layers reduce the number of parameters while keeping the important information. In max pooling the maximum value in each window on the feature map is kept. Pooling helps to shorten training time and prevent overfitting. More information on pooling layers can be found in the Keras documentation [here](https://keras.io/api/layers/pooling_layers/).\n",
    "\n",
    "`model.add(Flatten())` - This flattens the input to 1D without affecting the batch size. Keras documentation on the flatten layer can be found [here](https://keras.io/api/layers/reshaping_layers/flatten/).\n",
    "\n",
    "`model.add(Dense())` - Standard densely-connected neural network layer. This layer implements the operation passed in the activation argument. More information on dense layers can be found in the Keras documentation [here](https://keras.io/api/layers/core_layers/dense/).\n",
    "\n",
    "There are a few arguments that need to be passed for each layer as well.\n",
    "\n",
    "- Filter: This is the number seen first in each layer, it determines the number of output filters in the convolution. \n",
    "- kernel_size: Specifies the height and width of the 2D convolution window. In this model I use a kernel size of (3, 3) in each convolution layer.\n",
    "- padding: set to \"same\" in each layer, this results in padding evenly to the edges of each input so that each output has the same height/width dimension as the input.\n",
    "- activation: The activation function used by each layer. All layers are using a Rectified Linear Unit (relu) function except for the last layer, which is using a softmax function to make final predictions. More information on activation functions can be found in the Keras documentation [here](https://keras.io/api/layers/activations/)."
   ]
  },
  {
   "cell_type": "code",
   "execution_count": 5,
   "metadata": {
    "ExecuteTime": {
     "end_time": "2021-03-12T21:36:22.326315Z",
     "start_time": "2021-03-12T21:36:17.673486Z"
    },
    "id": "VPTH_mvnuZQZ"
   },
   "outputs": [],
   "source": [
    "model = Sequential()\n",
    "model.add(Conv2D(64, kernel_size=(3, 3), activation='relu',\n",
    "                 padding='same', input_shape=(48, 48, 1)))\n",
    "\n",
    "model.add(Conv2D(64, kernel_size=(3, 3), activation='relu', padding='same'))\n",
    "\n",
    "model.add(Conv2D(64, kernel_size=(3, 3), activation='relu', padding='same'))\n",
    "\n",
    "model.add(MaxPooling2D(pool_size=(2, 2)))\n",
    "\n",
    "model.add(Conv2D(128, kernel_size=(3, 3), activation='relu', padding='same'))\n",
    "\n",
    "model.add(Conv2D(128, kernel_size=(3, 3), activation='relu', padding='same'))\n",
    "\n",
    "model.add(MaxPooling2D(pool_size=(2, 2)))\n",
    "\n",
    "model.add(Conv2D(256, kernel_size=(3, 3), activation='relu', padding='same'))\n",
    "\n",
    "model.add(Conv2D(256, kernel_size=(3, 3), activation='relu', padding='same'))\n",
    "\n",
    "model.add(MaxPooling2D(pool_size=(2, 2)))\n",
    "\n",
    "model.add(Conv2D(512, kernel_size=(3, 3), activation='relu', padding='same'))\n",
    "\n",
    "model.add(Conv2D(512, kernel_size=(3, 3), activation='relu', padding='same'))\n",
    "\n",
    "model.add(MaxPooling2D(pool_size=(2, 2)))\n",
    "\n",
    "model.add(Conv2D(1024, kernel_size=(3, 3), activation='relu', padding='same'))\n",
    "\n",
    "model.add(Conv2D(1024, kernel_size=(3, 3), activation='relu', padding='same'))\n",
    "\n",
    "model.add(MaxPooling2D(pool_size=(2, 2)))\n",
    "\n",
    "model.add(Flatten())\n",
    "\n",
    "model.add(Dense(1024, activation='relu'))\n",
    "\n",
    "model.add(Dropout(0.2))\n",
    "\n",
    "model.add(Dense(4, activation='softmax'))"
   ]
  },
  {
   "cell_type": "markdown",
   "metadata": {},
   "source": [
    "Now that the layers are added, we can generate a summary of the model."
   ]
  },
  {
   "cell_type": "code",
   "execution_count": 6,
   "metadata": {
    "ExecuteTime": {
     "end_time": "2021-03-12T21:36:22.341236Z",
     "start_time": "2021-03-12T21:36:22.331261Z"
    },
    "colab": {
     "base_uri": "https://localhost:8080/"
    },
    "id": "_apFODZTCzxV",
    "outputId": "ff72c98d-38f3-4417-f7cc-0bd772c9aea5"
   },
   "outputs": [
    {
     "name": "stdout",
     "output_type": "stream",
     "text": [
      "Model: \"sequential\"\n",
      "_________________________________________________________________\n",
      "Layer (type)                 Output Shape              Param #   \n",
      "=================================================================\n",
      "conv2d (Conv2D)              (None, 48, 48, 64)        640       \n",
      "_________________________________________________________________\n",
      "conv2d_1 (Conv2D)            (None, 48, 48, 64)        36928     \n",
      "_________________________________________________________________\n",
      "conv2d_2 (Conv2D)            (None, 48, 48, 64)        36928     \n",
      "_________________________________________________________________\n",
      "max_pooling2d (MaxPooling2D) (None, 24, 24, 64)        0         \n",
      "_________________________________________________________________\n",
      "conv2d_3 (Conv2D)            (None, 24, 24, 128)       73856     \n",
      "_________________________________________________________________\n",
      "conv2d_4 (Conv2D)            (None, 24, 24, 128)       147584    \n",
      "_________________________________________________________________\n",
      "max_pooling2d_1 (MaxPooling2 (None, 12, 12, 128)       0         \n",
      "_________________________________________________________________\n",
      "conv2d_5 (Conv2D)            (None, 12, 12, 256)       295168    \n",
      "_________________________________________________________________\n",
      "conv2d_6 (Conv2D)            (None, 12, 12, 256)       590080    \n",
      "_________________________________________________________________\n",
      "max_pooling2d_2 (MaxPooling2 (None, 6, 6, 256)         0         \n",
      "_________________________________________________________________\n",
      "conv2d_7 (Conv2D)            (None, 6, 6, 512)         1180160   \n",
      "_________________________________________________________________\n",
      "conv2d_8 (Conv2D)            (None, 6, 6, 512)         2359808   \n",
      "_________________________________________________________________\n",
      "max_pooling2d_3 (MaxPooling2 (None, 3, 3, 512)         0         \n",
      "_________________________________________________________________\n",
      "conv2d_9 (Conv2D)            (None, 3, 3, 1024)        4719616   \n",
      "_________________________________________________________________\n",
      "conv2d_10 (Conv2D)           (None, 3, 3, 1024)        9438208   \n",
      "_________________________________________________________________\n",
      "max_pooling2d_4 (MaxPooling2 (None, 1, 1, 1024)        0         \n",
      "_________________________________________________________________\n",
      "flatten (Flatten)            (None, 1024)              0         \n",
      "_________________________________________________________________\n",
      "dense (Dense)                (None, 1024)              1049600   \n",
      "_________________________________________________________________\n",
      "dropout (Dropout)            (None, 1024)              0         \n",
      "_________________________________________________________________\n",
      "dense_1 (Dense)              (None, 4)                 4100      \n",
      "=================================================================\n",
      "Total params: 19,932,676\n",
      "Trainable params: 19,932,676\n",
      "Non-trainable params: 0\n",
      "_________________________________________________________________\n"
     ]
    }
   ],
   "source": [
    "model.summary()"
   ]
  },
  {
   "cell_type": "markdown",
   "metadata": {},
   "source": [
    "The next step is compiling the model. I will be using the Adam algorithm for the optimizer with a learning rate initially set at 0.0001. More information on the Adam optimizer can be found in the Keras documentation [here](https://keras.io/api/optimizers/adam/), and information on optimizers in Keras can be found [here](https://keras.io/api/optimizers/). Since there are multiple label classes I will be using the categorical crossentropy loss function. More information can be found in the Keras documentation [here](https://keras.io/api/losses/probabilistic_losses/#categoricalcrossentropy-class), and information on all loss functions in Keras can be found [here](https://keras.io/api/losses/). For metrics I will be using accuracy to calculate how often the predictions correctly match with the labels. More information on using accuracy in Keras can be found in the documentation [here](https://keras.io/api/metrics/accuracy_metrics/#accuracy-class), and information on all metrics in Keras can be found [here](https://keras.io/api/metrics/)."
   ]
  },
  {
   "cell_type": "code",
   "execution_count": 7,
   "metadata": {
    "ExecuteTime": {
     "end_time": "2021-03-12T21:36:24.487763Z",
     "start_time": "2021-03-12T21:36:24.440805Z"
    },
    "id": "W17TcTPnuYoC"
   },
   "outputs": [],
   "source": [
    "model.compile(optimizer=Adam(learning_rate=0.0001), loss='categorical_crossentropy',\n",
    "              metrics=['accuracy'])"
   ]
  },
  {
   "cell_type": "markdown",
   "metadata": {},
   "source": [
    "Before fitting the model to the data I want to set up some callbacks. Callbacks can perform actions at various stages of the model, such as stopping the model before the stated number of epochs have elapsed, reducing the learning rate if needed, periodically saving the model, and more. Information on callbacks can be found in the Keras documentation [here](https://keras.io/api/callbacks/). "
   ]
  },
  {
   "cell_type": "code",
   "execution_count": 8,
   "metadata": {
    "ExecuteTime": {
     "end_time": "2021-03-12T21:36:26.692482Z",
     "start_time": "2021-03-12T21:36:26.688480Z"
    },
    "id": "4UHyYythC4Qt"
   },
   "outputs": [],
   "source": [
    "# Stopping the model if the validation loss does not decrease\n",
    "early_stop = EarlyStopping(monitor='val_loss', patience=4)\n",
    "\n",
    "# Reducing the learning rate if the model starts to overfit\n",
    "lr_reducer = ReduceLROnPlateau(monitor='val_loss', patience=2, factor=0.5,\n",
    "                               verbose=1)\n",
    "\n",
    "# Producing TensorBoard logs\n",
    "tensorboard = TensorBoard(log_dir=\"logs\", write_graph=True, write_images=True)\n",
    "\n",
    "# Saving a model checkpoint\n",
    "checkpoint = ModelCheckpoint('limited-set-best.h5', monitor='val_accuracy',\n",
    "                             save_best_only=True, mode='auto')"
   ]
  },
  {
   "cell_type": "markdown",
   "metadata": {},
   "source": [
    "The next step is fitting the model to the data. This part can be rather computationally intensive. I would recommend using a GPU to help with the processing of the model or using Google Collab with a GPU boost. Using a GPU greatly improves performance. Information on setting up a TensorFlow environment that uses a GPU can be found [here](https://www.tensorflow.org/install/gpu), and information on using Google Collab with GPU acceleration for TensorFlow models can be found [here](https://colab.research.google.com/notebooks/gpu.ipynb)."
   ]
  },
  {
   "cell_type": "code",
   "execution_count": 9,
   "metadata": {
    "ExecuteTime": {
     "end_time": "2021-03-12T21:44:34.909523Z",
     "start_time": "2021-03-12T21:36:28.727608Z"
    },
    "colab": {
     "base_uri": "https://localhost:8080/"
    },
    "id": "i_1A8R1Kugxu",
    "outputId": "adeb3253-b0ba-4591-fc79-1af6ad42be5e"
   },
   "outputs": [
    {
     "name": "stdout",
     "output_type": "stream",
     "text": [
      "WARNING:tensorflow:sample_weight modes were coerced from\n",
      "  ...\n",
      "    to  \n",
      "  ['...']\n",
      "WARNING:tensorflow:sample_weight modes were coerced from\n",
      "  ...\n",
      "    to  \n",
      "  ['...']\n",
      "Train for 657 steps, validate for 163 steps\n",
      "Epoch 1/15\n",
      "657/657 [==============================] - 38s 59ms/step - loss: 1.3591 - accuracy: 0.3420 - val_loss: 1.3369 - val_accuracy: 0.3523\n",
      "Epoch 2/15\n",
      "657/657 [==============================] - 31s 48ms/step - loss: 1.3188 - accuracy: 0.3744 - val_loss: 1.1932 - val_accuracy: 0.4718\n",
      "Epoch 3/15\n",
      "657/657 [==============================] - 32s 48ms/step - loss: 1.1966 - accuracy: 0.4571 - val_loss: 1.0759 - val_accuracy: 0.5303\n",
      "Epoch 4/15\n",
      "657/657 [==============================] - 32s 48ms/step - loss: 1.0953 - accuracy: 0.5151 - val_loss: 0.9732 - val_accuracy: 0.5650\n",
      "Epoch 5/15\n",
      "657/657 [==============================] - 32s 49ms/step - loss: 0.9977 - accuracy: 0.5678 - val_loss: 0.9126 - val_accuracy: 0.6076\n",
      "Epoch 6/15\n",
      "657/657 [==============================] - 32s 49ms/step - loss: 0.9376 - accuracy: 0.5943 - val_loss: 0.8757 - val_accuracy: 0.6316\n",
      "Epoch 7/15\n",
      "657/657 [==============================] - 32s 49ms/step - loss: 0.8919 - accuracy: 0.6240 - val_loss: 0.8035 - val_accuracy: 0.6729\n",
      "Epoch 8/15\n",
      "657/657 [==============================] - 32s 48ms/step - loss: 0.8530 - accuracy: 0.6444 - val_loss: 0.8099 - val_accuracy: 0.6637\n",
      "Epoch 9/15\n",
      "657/657 [==============================] - 32s 48ms/step - loss: 0.8219 - accuracy: 0.6581 - val_loss: 0.7941 - val_accuracy: 0.6675\n",
      "Epoch 10/15\n",
      "657/657 [==============================] - 32s 48ms/step - loss: 0.8011 - accuracy: 0.6681 - val_loss: 0.7878 - val_accuracy: 0.6725\n",
      "Epoch 11/15\n",
      "657/657 [==============================] - 32s 49ms/step - loss: 0.7836 - accuracy: 0.6801 - val_loss: 0.7627 - val_accuracy: 0.6926\n",
      "Epoch 12/15\n",
      "657/657 [==============================] - 33s 50ms/step - loss: 0.7609 - accuracy: 0.6881 - val_loss: 0.7558 - val_accuracy: 0.6993\n",
      "Epoch 13/15\n",
      "657/657 [==============================] - 32s 49ms/step - loss: 0.7445 - accuracy: 0.6961 - val_loss: 0.7522 - val_accuracy: 0.6993\n",
      "Epoch 14/15\n",
      "657/657 [==============================] - 32s 49ms/step - loss: 0.7337 - accuracy: 0.7008 - val_loss: 0.7240 - val_accuracy: 0.7099\n",
      "Epoch 15/15\n",
      "657/657 [==============================] - 32s 49ms/step - loss: 0.7169 - accuracy: 0.7102 - val_loss: 0.7286 - val_accuracy: 0.7068\n"
     ]
    }
   ],
   "source": [
    "# For this notebook I have set the number of epochs to 15 as there is not much more to be gained\n",
    "# after that point and it takes a bit for the early stop to kick in, so I have set it to stop at\n",
    "# 15 epochs for ease of use.\n",
    "\n",
    "history = model.fit(x=train_set, validation_data=test_set, epochs=15,\n",
    "                    callbacks=[early_stop, lr_reducer, tensorboard,\n",
    "                               checkpoint], verbose=1)"
   ]
  },
  {
   "cell_type": "markdown",
   "metadata": {},
   "source": [
    "## Evaluating Model Performance"
   ]
  },
  {
   "cell_type": "markdown",
   "metadata": {},
   "source": [
    "The following graphs will display the training and testing loss of the model, as well as the accuracy over each epoch."
   ]
  },
  {
   "cell_type": "code",
   "execution_count": 10,
   "metadata": {
    "ExecuteTime": {
     "end_time": "2021-03-12T21:44:39.800766Z",
     "start_time": "2021-03-12T21:44:39.608293Z"
    },
    "colab": {
     "base_uri": "https://localhost:8080/",
     "height": 535
    },
    "id": "QnN63BZcC8AT",
    "outputId": "4f7908b4-4d31-42da-9816-6740c2569554",
    "scrolled": false
   },
   "outputs": [
    {
     "data": {
      "image/png": "[encoded data removed]",
      "text/plain": [
       "<Figure size 864x576 with 1 Axes>"
      ]
     },
     "metadata": {},
     "output_type": "display_data"
    }
   ],
   "source": [
    "train_loss = history.history['loss']\n",
    "test_loss = history.history['val_loss']\n",
    "\n",
    "plt.figure(figsize=(12, 8))\n",
    "plt.plot(train_loss, label='Training Loss', color='blue')\n",
    "plt.plot(test_loss, label='Testing Loss', color='orange')\n",
    "plt.title('Training and Testing Loss by Epoch')\n",
    "plt.xlabel('Epoch')\n",
    "plt.ylabel('Categorical Crossentropy')\n",
    "plt.legend();"
   ]
  },
  {
   "cell_type": "code",
   "execution_count": 11,
   "metadata": {
    "ExecuteTime": {
     "end_time": "2021-03-12T21:44:41.535662Z",
     "start_time": "2021-03-12T21:44:41.374097Z"
    },
    "colab": {
     "base_uri": "https://localhost:8080/",
     "height": 518
    },
    "id": "5B8gUNgqJZXW",
    "outputId": "bec1b7f7-2045-4859-de3e-5fcb5fad0c6d"
   },
   "outputs": [
    {
     "data": {
      "image/png": "[encoded data removed]",
      "text/plain": [
       "<Figure size 864x576 with 1 Axes>"
      ]
     },
     "metadata": {},
     "output_type": "display_data"
    }
   ],
   "source": [
    "train_acc = history.history['accuracy']\n",
    "test_acc = history.history['val_accuracy']\n",
    "\n",
    "plt.figure(figsize=(12, 8))\n",
    "plt.plot(train_acc, label='Training Accuracy', color='blue')\n",
    "plt.plot(test_acc, label='Testing Accuracy', color='orange')\n",
    "plt.title('Training and Testing Accuracy by Epoch')\n",
    "plt.legend();"
   ]
  },
  {
   "cell_type": "code",
   "execution_count": 25,
   "metadata": {
    "ExecuteTime": {
     "end_time": "2021-03-12T21:52:12.742448Z",
     "start_time": "2021-03-12T21:52:10.759738Z"
    }
   },
   "outputs": [
    {
     "data": {
      "text/plain": [
       "array([[1.0613140e-01, 2.1898201e-02, 5.0049561e-01, 3.7147483e-01],\n",
       "       [1.9863728e-02, 9.5815885e-01, 1.8967828e-02, 3.0095796e-03],\n",
       "       [3.4292236e-01, 1.6268416e-03, 2.2282887e-01, 4.3262196e-01],\n",
       "       ...,\n",
       "       [1.4701432e-02, 6.0281616e-01, 3.2722586e-01, 5.5256449e-02],\n",
       "       [1.6021945e-02, 9.8350137e-01, 3.3017094e-04, 1.4658403e-04],\n",
       "       [1.5064039e-03, 9.9776018e-01, 5.3657551e-04, 1.9680864e-04]],\n",
       "      dtype=float32)"
      ]
     },
     "execution_count": 25,
     "metadata": {},
     "output_type": "execute_result"
    }
   ],
   "source": [
    "# Confusion matrix\n",
    "\n",
    "preds = model.predict_generator(generator=test_set)\n",
    "preds"
   ]
  },
  {
   "cell_type": "code",
   "execution_count": 33,
   "metadata": {
    "ExecuteTime": {
     "end_time": "2021-03-12T22:00:55.825804Z",
     "start_time": "2021-03-12T22:00:55.819790Z"
    }
   },
   "outputs": [
    {
     "data": {
      "text/plain": [
       "array([2, 1, 3, ..., 1, 1, 1], dtype=int64)"
      ]
     },
     "execution_count": 33,
     "metadata": {},
     "output_type": "execute_result"
    }
   ],
   "source": [
    "pred_classes = np.argmax(preds, axis = 1)\n",
    "pred_classes"
   ]
  },
  {
   "cell_type": "code",
   "execution_count": 29,
   "metadata": {
    "ExecuteTime": {
     "end_time": "2021-03-12T21:56:09.676670Z",
     "start_time": "2021-03-12T21:56:09.670687Z"
    }
   },
   "outputs": [
    {
     "data": {
      "text/plain": [
       "array([0, 0, 0, ..., 3, 3, 3])"
      ]
     },
     "execution_count": 29,
     "metadata": {},
     "output_type": "execute_result"
    }
   ],
   "source": [
    "true = test_set.classes\n",
    "true"
   ]
  },
  {
   "cell_type": "code",
   "execution_count": 37,
   "metadata": {
    "ExecuteTime": {
     "end_time": "2021-03-12T22:08:31.219805Z",
     "start_time": "2021-03-12T22:08:31.199851Z"
    }
   },
   "outputs": [
    {
     "data": {
      "text/plain": [
       "array([[163, 325, 228, 242],\n",
       "       [304, 673, 381, 416],\n",
       "       [219, 429, 281, 304],\n",
       "       [202, 500, 266, 279]], dtype=int64)"
      ]
     },
     "execution_count": 37,
     "metadata": {},
     "output_type": "execute_result"
    }
   ],
   "source": [
    "cm = confusion_matrix(true, pred_classes)\n",
    "cm"
   ]
  },
  {
   "cell_type": "code",
   "execution_count": 39,
   "metadata": {
    "ExecuteTime": {
     "end_time": "2021-03-12T22:12:19.255459Z",
     "start_time": "2021-03-12T22:12:19.251472Z"
    }
   },
   "outputs": [],
   "source": [
    "labels = ['Angry', 'Happy', 'Neutral', 'Sad']"
   ]
  },
  {
   "cell_type": "code",
   "execution_count": 46,
   "metadata": {
    "ExecuteTime": {
     "end_time": "2021-03-12T22:14:06.435360Z",
     "start_time": "2021-03-12T22:14:06.303682Z"
    }
   },
   "outputs": [
    {
     "name": "stderr",
     "output_type": "stream",
     "text": [
      "No handles with labels found to put in legend.\n"
     ]
    },
    {
     "data": {
      "text/plain": [
       "<matplotlib.legend.Legend at 0x22eb8160048>"
      ]
     },
     "execution_count": 46,
     "metadata": {},
     "output_type": "execute_result"
    },
    {
     "data": {
      "image/png": "[encoded data removed]",
      "text/plain": [
       "<Figure size 720x720 with 1 Axes>"
      ]
     },
     "metadata": {},
     "output_type": "display_data"
    }
   ],
   "source": [
    "plt.figure(figsize=(10,10))\n",
    "plt.imshow(cm)\n",
    "plt.title('Facial Expression Confusion Matrix')\n",
    "plt.xlabel('Predicted')\n",
    "plt.ylabel('Actual')\n",
    "plt.xticks(ticks = range(len(labels)), labels = labels)\n",
    "plt.yticks(ticks = range(len(labels)), labels = labels)\n",
    "plt.legend()"
   ]
  },
  {
   "cell_type": "code",
   "execution_count": 55,
   "metadata": {
    "ExecuteTime": {
     "end_time": "2021-03-12T22:24:32.813741Z",
     "start_time": "2021-03-12T22:24:32.633226Z"
    }
   },
   "outputs": [
    {
     "name": "stderr",
     "output_type": "stream",
     "text": [
      "No handles with labels found to put in legend.\n"
     ]
    },
    {
     "data": {
      "text/plain": [
       "<matplotlib.legend.Legend at 0x22eb879f160>"
      ]
     },
     "execution_count": 55,
     "metadata": {},
     "output_type": "execute_result"
    },
    {
     "data": {
      "image/png": "[encoded data removed]",
      "text/plain": [
       "<Figure size 720x720 with 2 Axes>"
      ]
     },
     "metadata": {},
     "output_type": "display_data"
    }
   ],
   "source": [
    "plt.figure(figsize=(10,10))\n",
    "sns.heatmap(cm, annot=True, fmt=\"d\")\n",
    "plt.title('Facial Expression Confusion Matrix')\n",
    "plt.xlabel('Predicted')\n",
    "plt.ylabel('Actual')\n",
    "plt.xticks(ticks = range(len(labels)), labels = labels)\n",
    "plt.yticks(ticks = range(len(labels)), labels = labels)\n",
    "plt.legend()"
   ]
  },
  {
   "cell_type": "code",
   "execution_count": null,
   "metadata": {},
   "outputs": [],
   "source": []
  }
 ],
 "metadata": {
  "accelerator": "GPU",
  "colab": {
   "collapsed_sections": [],
   "name": "GA-Capstone.ipynb",
   "provenance": []
  },
  "kernelspec": {
   "display_name": "ev_2",
   "language": "python",
   "name": "ev_2"
  },
  "varInspector": {
   "cols": {
    "lenName": 16,
    "lenType": 16,
    "lenVar": 40
   },
   "kernels_config": {
    "python": {
     "delete_cmd_postfix": "",
     "delete_cmd_prefix": "del ",
     "library": "var_list.py",
     "varRefreshCmd": "print(var_dic_list())"
    },
    "r": {
     "delete_cmd_postfix": ") ",
     "delete_cmd_prefix": "rm(",
     "library": "var_list.r",
     "varRefreshCmd": "cat(var_dic_list()) "
    }
   },
   "types_to_exclude": [
    "module",
    "function",
    "builtin_function_or_method",
    "instance",
    "_Feature"
   ],
   "window_display": false
  }
 },
 "nbformat": 4,
 "nbformat_minor": 1
}
