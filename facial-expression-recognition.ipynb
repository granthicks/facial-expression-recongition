{
 "cells": [
  {
   "cell_type": "code",
   "execution_count": 1,
   "metadata": {
    "ExecuteTime": {
     "end_time": "2021-03-12T00:15:42.641621Z",
     "start_time": "2021-03-12T00:15:40.077264Z"
    },
    "id": "alVjpR7ktp50"
   },
   "outputs": [],
   "source": [
    "import numpy as np\n",
    "import pandas as pd\n",
    "import matplotlib.pyplot as plt\n",
    "import os\n",
    "\n",
    "from tensorflow.keras.models import Sequential\n",
    "from tensorflow.keras.optimizers import Adam\n",
    "from tensorflow.keras.preprocessing.image import ImageDataGenerator\n",
    "from tensorflow.keras.layers import Conv2D, Dense, Dropout, MaxPooling2D, Flatten\n",
    "from tensorflow.keras.callbacks import EarlyStopping, ModelCheckpoint, ReduceLROnPlateau, TensorBoard\n",
    "\n",
    "plt.style.use('ggplot')"
   ]
  },
  {
   "cell_type": "markdown",
   "metadata": {},
   "source": [
    "## Reading in the data"
   ]
  },
  {
   "cell_type": "code",
   "execution_count": 2,
   "metadata": {
    "ExecuteTime": {
     "end_time": "2021-03-12T00:15:43.936371Z",
     "start_time": "2021-03-12T00:15:43.933378Z"
    },
    "colab": {
     "base_uri": "https://localhost:8080/"
    },
    "id": "vXpwhEiwCdNB",
    "outputId": "0b9e6219-2529-4fd3-a778-c8f26e9af3db"
   },
   "outputs": [],
   "source": [
    "# Unzipping the limited dataset\n",
    "# Data has been compressed for ease of use in Google Collab\n",
    "# The original data has been limited to just 4 categories: 'angry', 'happy', 'neutral', and 'sad'\n",
    "\n",
    "# If data is already unzipped this can be left commented out, otherwise uncomment the command to unzip\n",
    "# the image files.\n",
    "\n",
    "\n",
    "# !unzip ./content/limited.zip"
   ]
  },
  {
   "cell_type": "code",
   "execution_count": 3,
   "metadata": {
    "ExecuteTime": {
     "end_time": "2021-03-12T00:15:44.834048Z",
     "start_time": "2021-03-12T00:15:44.773210Z"
    },
    "colab": {
     "base_uri": "https://localhost:8080/"
    },
    "id": "ZvHMlhyrtxWN",
    "outputId": "a339f830-cd63-4d9e-c298-aa3ba520b16b"
   },
   "outputs": [
    {
     "name": "stdout",
     "output_type": "stream",
     "text": [
      "Train\n",
      "{'angry': 3995, 'happy': 7215, 'neutral': 4965, 'sad': 4830}\n",
      "\n",
      "Test\n",
      "{'angry': 958, 'happy': 1774, 'neutral': 1233, 'sad': 1247}\n"
     ]
    }
   ],
   "source": [
    "# When unzipped the files will be in the 'limited' directory\n",
    "\n",
    "# Test and train directories\n",
    "train_dir = './limited/train'\n",
    "test_dir = './limited/test'\n",
    "\n",
    "\n",
    "# Train count\n",
    "train_expression_list = [expression for expression in os.listdir(train_dir)]\n",
    "train_count_dict = {}\n",
    "for expression in train_expression_list:\n",
    "    train_count_dict[expression] = len(\n",
    "        os.listdir(train_dir + '/' + expression))\n",
    "\n",
    "\n",
    "# Test count\n",
    "test_expression_list = [expression for expression in os.listdir(test_dir)]\n",
    "test_count_dict = {}\n",
    "for expression in test_expression_list:\n",
    "    test_count_dict[expression] = len(os.listdir(test_dir + '/' + expression))\n",
    "\n",
    "# Printing out the number of images for each category\n",
    "print(\"Train\")\n",
    "print(train_count_dict)\n",
    "print()\n",
    "print('Test')\n",
    "print(test_count_dict)"
   ]
  },
  {
   "cell_type": "code",
   "execution_count": 4,
   "metadata": {
    "ExecuteTime": {
     "end_time": "2021-03-12T00:15:47.268596Z",
     "start_time": "2021-03-12T00:15:46.080280Z"
    },
    "colab": {
     "base_uri": "https://localhost:8080/"
    },
    "id": "UVLMyFBtuTwR",
    "outputId": "181114f1-3877-41f7-d0bc-52490196b93c"
   },
   "outputs": [
    {
     "name": "stdout",
     "output_type": "stream",
     "text": [
      "Found 21005 images belonging to 4 classes.\n",
      "Found 5212 images belonging to 4 classes.\n"
     ]
    }
   ],
   "source": [
    "# Generating data from the images. This will add some shift, zoom, and rotation to the images\n",
    "# to help the model learn better from a wider range.\n",
    "\n",
    "train_datagen = ImageDataGenerator(rescale=1./255,\n",
    "                                   height_shift_range=0.1,\n",
    "                                   width_shift_range=0.1,\n",
    "                                   zoom_range=0.2,\n",
    "                                   horizontal_flip=True,\n",
    "                                   rotation_range=20)\n",
    "\n",
    "train_set = train_datagen.flow_from_directory(train_dir,\n",
    "                                              batch_size=32,\n",
    "                                              target_size=(48, 48),\n",
    "                                              shuffle=True,\n",
    "                                              color_mode='grayscale',\n",
    "                                              class_mode='categorical')\n",
    "\n",
    "test_datagen = ImageDataGenerator(rescale=1./255)\n",
    "test_set = test_datagen.flow_from_directory(test_dir,\n",
    "                                            batch_size=32,\n",
    "                                            target_size=(48, 48),\n",
    "                                            shuffle=True,\n",
    "                                            color_mode='grayscale',\n",
    "                                            class_mode='categorical')"
   ]
  },
  {
   "cell_type": "code",
   "execution_count": 5,
   "metadata": {
    "ExecuteTime": {
     "end_time": "2021-03-12T00:15:48.092605Z",
     "start_time": "2021-03-12T00:15:48.086622Z"
    },
    "colab": {
     "base_uri": "https://localhost:8080/"
    },
    "id": "rAdz99qeuVvA",
    "outputId": "565f5f0e-a958-457b-d635-062d913b9fd7"
   },
   "outputs": [
    {
     "data": {
      "text/plain": [
       "{'angry': 0, 'happy': 1, 'neutral': 2, 'sad': 3}"
      ]
     },
     "execution_count": 5,
     "metadata": {},
     "output_type": "execute_result"
    }
   ],
   "source": [
    "# Checking the indicies for each expression\n",
    "\n",
    "train_set.class_indices"
   ]
  },
  {
   "cell_type": "markdown",
   "metadata": {},
   "source": [
    "## Building the model"
   ]
  },
  {
   "cell_type": "markdown",
   "metadata": {},
   "source": [
    "Since I am working with images I will use a convolutional neural network to predict expressions in the images. Building the model involves several functions from the Keras library.\n",
    "\n",
    "`Sequential()` - A model comprised of stacks of layers moving from the initial input layer to the final output layer. Different types of layers can be used in the sequential model. More information on the sequential model can be found [here](https://keras.io/guides/sequential_model/).\n",
    "\n",
    "`model.add(Conv2D())` - A 2D convolution layer for spatial convolution over images. These layers will use a filter to produce a feature map from the image. More information on 2D convolution layers can be found in the Keras documentation [here](https://keras.io/api/layers/convolution_layers/convolution2d/).\n",
    "\n",
    "`model.add(MaxPooling2D())` - These layers reduce the number of parameters while keeping the important information. In max pooling the maximum value in each window on the feature map is kept. Pooling helps to shorten training time and prevent overfitting. More information on pooling layers can be found in the Keras documentation [here](https://keras.io/api/layers/pooling_layers/).\n",
    "\n",
    "`model.add(Flatten())` - This flattens the input to 1D without affecting the batch size. Keras documentation on the flatten layer can be found [here](https://keras.io/api/layers/reshaping_layers/flatten/).\n",
    "\n",
    "`model.add(Dense())` - Standard densely-connected neural network layer. This layer implements the operation passed in the activation argument. More information on dense layers can be found in the Keras documentation [here](https://keras.io/api/layers/core_layers/dense/).\n",
    "\n",
    "There are a few arguments that need to be passed for each layer as well.\n",
    "\n",
    "- Filter: This is the number seen first in each layer, it determines the number of output filters in the convolution. \n",
    "- kernel_size: Specifies the height and width of the 2D convolution window. In this model I use a kernel size of (3, 3) in each convolution layer.\n",
    "- padding: set to \"same\" in each layer, this results in padding evenly to the edges of each input so that each output has the same height/width dimension as the input.\n",
    "- activation: The activation function used by each layer. All layers are using a Rectified Linear Unit (relu) function except for the last layer, which is using a softmax function to make final predictions. More information on activation functions can be found in the Keras documentation [here](https://keras.io/api/layers/activations/)."
   ]
  },
  {
   "cell_type": "code",
   "execution_count": 6,
   "metadata": {
    "ExecuteTime": {
     "end_time": "2021-03-12T00:15:54.197608Z",
     "start_time": "2021-03-12T00:15:49.190079Z"
    },
    "id": "VPTH_mvnuZQZ"
   },
   "outputs": [],
   "source": [
    "model = Sequential()\n",
    "model.add(Conv2D(64, kernel_size=(3, 3), activation='relu',\n",
    "                 padding='same', input_shape=(48, 48, 1)))\n",
    "\n",
    "model.add(Conv2D(64, kernel_size=(3, 3), activation='relu', padding='same'))\n",
    "\n",
    "model.add(Conv2D(64, kernel_size=(3, 3), activation='relu', padding='same'))\n",
    "\n",
    "model.add(MaxPooling2D(pool_size=(2, 2)))\n",
    "\n",
    "model.add(Conv2D(128, kernel_size=(3, 3), activation='relu', padding='same'))\n",
    "\n",
    "model.add(Conv2D(128, kernel_size=(3, 3), activation='relu', padding='same'))\n",
    "\n",
    "model.add(MaxPooling2D(pool_size=(2, 2)))\n",
    "\n",
    "model.add(Conv2D(256, kernel_size=(3, 3), activation='relu', padding='same'))\n",
    "\n",
    "model.add(Conv2D(256, kernel_size=(3, 3), activation='relu', padding='same'))\n",
    "\n",
    "model.add(MaxPooling2D(pool_size=(2, 2)))\n",
    "\n",
    "model.add(Conv2D(512, kernel_size=(3, 3), activation='relu', padding='same'))\n",
    "\n",
    "model.add(Conv2D(512, kernel_size=(3, 3), activation='relu', padding='same'))\n",
    "\n",
    "model.add(MaxPooling2D(pool_size=(2, 2)))\n",
    "\n",
    "model.add(Conv2D(1024, kernel_size=(3, 3), activation='relu', padding='same'))\n",
    "\n",
    "model.add(Conv2D(1024, kernel_size=(3, 3), activation='relu', padding='same'))\n",
    "\n",
    "model.add(MaxPooling2D(pool_size=(2, 2)))\n",
    "\n",
    "model.add(Flatten())\n",
    "\n",
    "model.add(Dense(1024, activation='relu'))\n",
    "\n",
    "model.add(Dropout(0.2))\n",
    "\n",
    "model.add(Dense(4, activation='softmax'))"
   ]
  },
  {
   "cell_type": "markdown",
   "metadata": {},
   "source": [
    "Now that the layers are added, we can generate a summary of the model."
   ]
  },
  {
   "cell_type": "code",
   "execution_count": 7,
   "metadata": {
    "ExecuteTime": {
     "end_time": "2021-03-12T00:15:55.257272Z",
     "start_time": "2021-03-12T00:15:55.245270Z"
    },
    "colab": {
     "base_uri": "https://localhost:8080/"
    },
    "id": "_apFODZTCzxV",
    "outputId": "ff72c98d-38f3-4417-f7cc-0bd772c9aea5"
   },
   "outputs": [
    {
     "name": "stdout",
     "output_type": "stream",
     "text": [
      "Model: \"sequential\"\n",
      "_________________________________________________________________\n",
      "Layer (type)                 Output Shape              Param #   \n",
      "=================================================================\n",
      "conv2d (Conv2D)              (None, 48, 48, 64)        640       \n",
      "_________________________________________________________________\n",
      "conv2d_1 (Conv2D)            (None, 48, 48, 64)        36928     \n",
      "_________________________________________________________________\n",
      "conv2d_2 (Conv2D)            (None, 48, 48, 64)        36928     \n",
      "_________________________________________________________________\n",
      "max_pooling2d (MaxPooling2D) (None, 24, 24, 64)        0         \n",
      "_________________________________________________________________\n",
      "conv2d_3 (Conv2D)            (None, 24, 24, 128)       73856     \n",
      "_________________________________________________________________\n",
      "conv2d_4 (Conv2D)            (None, 24, 24, 128)       147584    \n",
      "_________________________________________________________________\n",
      "max_pooling2d_1 (MaxPooling2 (None, 12, 12, 128)       0         \n",
      "_________________________________________________________________\n",
      "conv2d_5 (Conv2D)            (None, 12, 12, 256)       295168    \n",
      "_________________________________________________________________\n",
      "conv2d_6 (Conv2D)            (None, 12, 12, 256)       590080    \n",
      "_________________________________________________________________\n",
      "max_pooling2d_2 (MaxPooling2 (None, 6, 6, 256)         0         \n",
      "_________________________________________________________________\n",
      "conv2d_7 (Conv2D)            (None, 6, 6, 512)         1180160   \n",
      "_________________________________________________________________\n",
      "conv2d_8 (Conv2D)            (None, 6, 6, 512)         2359808   \n",
      "_________________________________________________________________\n",
      "max_pooling2d_3 (MaxPooling2 (None, 3, 3, 512)         0         \n",
      "_________________________________________________________________\n",
      "conv2d_9 (Conv2D)            (None, 3, 3, 1024)        4719616   \n",
      "_________________________________________________________________\n",
      "conv2d_10 (Conv2D)           (None, 3, 3, 1024)        9438208   \n",
      "_________________________________________________________________\n",
      "max_pooling2d_4 (MaxPooling2 (None, 1, 1, 1024)        0         \n",
      "_________________________________________________________________\n",
      "flatten (Flatten)            (None, 1024)              0         \n",
      "_________________________________________________________________\n",
      "dense (Dense)                (None, 1024)              1049600   \n",
      "_________________________________________________________________\n",
      "dropout (Dropout)            (None, 1024)              0         \n",
      "_________________________________________________________________\n",
      "dense_1 (Dense)              (None, 4)                 4100      \n",
      "=================================================================\n",
      "Total params: 19,932,676\n",
      "Trainable params: 19,932,676\n",
      "Non-trainable params: 0\n",
      "_________________________________________________________________\n"
     ]
    }
   ],
   "source": [
    "model.summary()"
   ]
  },
  {
   "cell_type": "markdown",
   "metadata": {},
   "source": [
    "The next step is compiling the model. I will be using the Adam algorithm for the optimizer with a learning rate initially set at 0.0001. More information on the Adam optimizer can be found in the Keras documentation [here](https://keras.io/api/optimizers/adam/), and information on optimizers in Keras can be found [here](https://keras.io/api/optimizers/). Since there are multiple label classes I will be using the categorical crossentropy loss function. More information can be found in the Keras documentation [here](https://keras.io/api/losses/probabilistic_losses/#categoricalcrossentropy-class), and information on all loss functions in Keras can be found [here](https://keras.io/api/losses/). For metrics I will be using accuracy to calculate how often the predictions correctly match with the labels. More information on using accuracy in Keras can be found in the documentation [here](https://keras.io/api/metrics/accuracy_metrics/#accuracy-class), and information on all metrics in Keras can be found [here](https://keras.io/api/metrics/)."
   ]
  },
  {
   "cell_type": "code",
   "execution_count": 8,
   "metadata": {
    "ExecuteTime": {
     "end_time": "2021-03-12T00:15:58.076858Z",
     "start_time": "2021-03-12T00:15:58.029935Z"
    },
    "id": "W17TcTPnuYoC"
   },
   "outputs": [],
   "source": [
    "model.compile(optimizer=Adam(learning_rate=0.0001), loss='categorical_crossentropy',\n",
    "              metrics=['accuracy'])"
   ]
  },
  {
   "cell_type": "markdown",
   "metadata": {},
   "source": [
    "Before fitting the model to the data I want to set up some callbacks. Callbacks can perform actions at various stages of the model, such as stopping the model before the stated number of epochs have elapsed, reducing the learning rate if needed, periodically saving the model, and more. Information on callbacks can be found in the Keras documentation [here](https://keras.io/api/callbacks/). "
   ]
  },
  {
   "cell_type": "code",
   "execution_count": 9,
   "metadata": {
    "ExecuteTime": {
     "end_time": "2021-03-12T00:15:59.275318Z",
     "start_time": "2021-03-12T00:15:59.270329Z"
    },
    "id": "4UHyYythC4Qt"
   },
   "outputs": [],
   "source": [
    "# Stopping the model if the validation loss does not decrease\n",
    "early_stop = EarlyStopping(monitor='val_loss', patience=4)\n",
    "\n",
    "# Reducing the learning rate if the model starts to overfit\n",
    "lr_reducer = ReduceLROnPlateau(monitor='val_loss', patience=2, factor=0.5,\n",
    "                               verbose=1)\n",
    "\n",
    "# Producing TensorBoard logs\n",
    "tensorboard = TensorBoard(log_dir=\"logs\", write_graph=True, write_images=True)\n",
    "\n",
    "# Saving a model checkpoint\n",
    "checkpoint = ModelCheckpoint('limited-set-best.h5', monitor='val_accuracy',\n",
    "                             save_best_only=True, mode='auto')"
   ]
  },
  {
   "cell_type": "markdown",
   "metadata": {},
   "source": [
    "The next step is fitting the model to the data. This part can be rather computationally intensive. I would recommend using a GPU to help with the processing of the model or using Google Collab with a GPU boost. Using a GPU greatly improves performance. Information on setting up a TensorFlow environment that uses a GPU can be found [here](https://www.tensorflow.org/install/gpu), and information on using Google Collab with GPU acceleration for TensorFlow models can be found [here](https://colab.research.google.com/notebooks/gpu.ipynb)."
   ]
  },
  {
   "cell_type": "code",
   "execution_count": 10,
   "metadata": {
    "ExecuteTime": {
     "end_time": "2021-03-12T00:25:27.904353Z",
     "start_time": "2021-03-12T00:16:00.233587Z"
    },
    "colab": {
     "base_uri": "https://localhost:8080/"
    },
    "id": "i_1A8R1Kugxu",
    "outputId": "adeb3253-b0ba-4591-fc79-1af6ad42be5e"
   },
   "outputs": [
    {
     "name": "stdout",
     "output_type": "stream",
     "text": [
      "WARNING:tensorflow:sample_weight modes were coerced from\n",
      "  ...\n",
      "    to  \n",
      "  ['...']\n",
      "WARNING:tensorflow:sample_weight modes were coerced from\n",
      "  ...\n",
      "    to  \n",
      "  ['...']\n",
      "Train for 657 steps, validate for 163 steps\n",
      "Epoch 1/15\n",
      "657/657 [==============================] - 116s 177ms/step - loss: 1.3585 - accuracy: 0.3443 - val_loss: 1.3165 - val_accuracy: 0.3858\n",
      "Epoch 2/15\n",
      "657/657 [==============================] - 32s 48ms/step - loss: 1.2774 - accuracy: 0.4078 - val_loss: 1.1461 - val_accuracy: 0.4871\n",
      "Epoch 3/15\n",
      "657/657 [==============================] - 32s 49ms/step - loss: 1.1580 - accuracy: 0.4710 - val_loss: 1.0468 - val_accuracy: 0.5447\n",
      "Epoch 4/15\n",
      "657/657 [==============================] - 32s 48ms/step - loss: 1.0798 - accuracy: 0.5188 - val_loss: 1.0159 - val_accuracy: 0.5432\n",
      "Epoch 5/15\n",
      "657/657 [==============================] - 32s 49ms/step - loss: 1.0124 - accuracy: 0.5582 - val_loss: 0.9821 - val_accuracy: 0.5714\n",
      "Epoch 6/15\n",
      "657/657 [==============================] - 32s 49ms/step - loss: 0.9432 - accuracy: 0.5944 - val_loss: 0.8669 - val_accuracy: 0.6376\n",
      "Epoch 7/15\n",
      "657/657 [==============================] - 32s 49ms/step - loss: 0.9022 - accuracy: 0.6115 - val_loss: 0.8359 - val_accuracy: 0.6456\n",
      "Epoch 8/15\n",
      "657/657 [==============================] - 33s 49ms/step - loss: 0.8627 - accuracy: 0.6385 - val_loss: 0.8007 - val_accuracy: 0.6713\n",
      "Epoch 9/15\n",
      "657/657 [==============================] - 32s 49ms/step - loss: 0.8289 - accuracy: 0.6544 - val_loss: 0.8042 - val_accuracy: 0.6665\n",
      "Epoch 10/15\n",
      "657/657 [==============================] - 33s 50ms/step - loss: 0.8034 - accuracy: 0.6682 - val_loss: 0.7477 - val_accuracy: 0.6947\n",
      "Epoch 11/15\n",
      "657/657 [==============================] - 32s 49ms/step - loss: 0.7814 - accuracy: 0.6808 - val_loss: 0.7542 - val_accuracy: 0.6882\n",
      "Epoch 12/15\n",
      "655/657 [============================>.] - ETA: 0s - loss: 0.7661 - accuracy: 0.6876 ETA: 0s - loss: 0.7662 - accuracy: 0.\n",
      "Epoch 00012: ReduceLROnPlateau reducing learning rate to 4.999999873689376e-05.\n",
      "657/657 [==============================] - 33s 50ms/step - loss: 0.7659 - accuracy: 0.6876 - val_loss: 0.7518 - val_accuracy: 0.6961\n",
      "Epoch 13/15\n",
      "657/657 [==============================] - 32s 49ms/step - loss: 0.7243 - accuracy: 0.7060 - val_loss: 0.7579 - val_accuracy: 0.6953\n",
      "Epoch 14/15\n",
      "657/657 [==============================] - 33s 50ms/step - loss: 0.7092 - accuracy: 0.7098 - val_loss: 0.7337 - val_accuracy: 0.7051\n",
      "Epoch 15/15\n",
      "657/657 [==============================] - 32s 49ms/step - loss: 0.6979 - accuracy: 0.7196 - val_loss: 0.7485 - val_accuracy: 0.6978\n"
     ]
    }
   ],
   "source": [
    "# For this notebook I have set the number of epochs to 15 as there is not much more to be gained\n",
    "# after that point and it takes a bit for the early stop to kick in, so I have set it to stop at\n",
    "# 15 epochs for ease of use.\n",
    "\n",
    "history = model.fit(x=train_set, validation_data=test_set, epochs=15,\n",
    "                    callbacks=[early_stop, lr_reducer, tensorboard,\n",
    "                               checkpoint], verbose=1)"
   ]
  },
  {
   "cell_type": "markdown",
   "metadata": {},
   "source": [
    "## Evaluating Model Performance"
   ]
  },
  {
   "cell_type": "markdown",
   "metadata": {},
   "source": [
    "The following graphs will display the training and testing loss of the model, as well as the accuracy over each epoch."
   ]
  },
  {
   "cell_type": "code",
   "execution_count": 12,
   "metadata": {
    "ExecuteTime": {
     "end_time": "2021-03-12T00:33:24.418111Z",
     "start_time": "2021-03-12T00:33:24.225677Z"
    },
    "colab": {
     "base_uri": "https://localhost:8080/",
     "height": 535
    },
    "id": "QnN63BZcC8AT",
    "outputId": "4f7908b4-4d31-42da-9816-6740c2569554",
    "scrolled": false
   },
   "outputs": [
    {
     "data": {
      "text/plain": [
       "<matplotlib.legend.Legend at 0x224ff9a4b00>"
      ]
     },
     "execution_count": 12,
     "metadata": {},
     "output_type": "execute_result"
    },
    {
     "data": {
      "image/png": "[encoded data removed]",
      "text/plain": [
       "<Figure size 864x576 with 1 Axes>"
      ]
     },
     "metadata": {},
     "output_type": "display_data"
    }
   ],
   "source": [
    "train_loss = history.history['loss']\n",
    "test_loss = history.history['val_loss']\n",
    "\n",
    "plt.figure(figsize=(12, 8))\n",
    "plt.plot(train_loss, label='Training Loss', color='blue')\n",
    "plt.plot(test_loss, label='Testing Loss', color='orange')\n",
    "plt.title('Training and Testing Loss by Epoch')\n",
    "plt.xlabel('Epoch')\n",
    "plt.ylabel('Categorical Crossentropy')\n",
    "plt.legend();"
   ]
  },
  {
   "cell_type": "code",
   "execution_count": 13,
   "metadata": {
    "ExecuteTime": {
     "end_time": "2021-03-12T00:33:31.506739Z",
     "start_time": "2021-03-12T00:33:31.374898Z"
    },
    "colab": {
     "base_uri": "https://localhost:8080/",
     "height": 518
    },
    "id": "5B8gUNgqJZXW",
    "outputId": "bec1b7f7-2045-4859-de3e-5fcb5fad0c6d"
   },
   "outputs": [
    {
     "data": {
      "image/png": "[encoded data removed]",
      "text/plain": [
       "<Figure size 864x576 with 1 Axes>"
      ]
     },
     "metadata": {},
     "output_type": "display_data"
    }
   ],
   "source": [
    "train_acc = history.history['accuracy']\n",
    "test_acc = history.history['val_accuracy']\n",
    "\n",
    "plt.figure(figsize=(12, 8))\n",
    "plt.plot(train_acc, label='Training Accuracy', color='blue')\n",
    "plt.plot(test_acc, label='Testing Accuracy', color='orange')\n",
    "plt.title('Training and Testing Accuracy by Epoch')\n",
    "plt.legend();"
   ]
  },
  {
   "cell_type": "markdown",
   "metadata": {
    "id": "JuxfYkXMlSpi"
   },
   "source": [
    "At this point I am ready to test out the model in real-time predictions. The model has been saved as 'limited-set-best.h5'."
   ]
  },
  {
   "cell_type": "code",
   "execution_count": null,
   "metadata": {},
   "outputs": [],
   "source": []
  }
 ],
 "metadata": {
  "accelerator": "GPU",
  "colab": {
   "collapsed_sections": [],
   "name": "GA-Capstone.ipynb",
   "provenance": []
  },
  "kernelspec": {
   "display_name": "ev_2",
   "language": "python",
   "name": "ev_2"
  },
  "varInspector": {
   "cols": {
    "lenName": 16,
    "lenType": 16,
    "lenVar": 40
   },
   "kernels_config": {
    "python": {
     "delete_cmd_postfix": "",
     "delete_cmd_prefix": "del ",
     "library": "var_list.py",
     "varRefreshCmd": "print(var_dic_list())"
    },
    "r": {
     "delete_cmd_postfix": ") ",
     "delete_cmd_prefix": "rm(",
     "library": "var_list.r",
     "varRefreshCmd": "cat(var_dic_list()) "
    }
   },
   "types_to_exclude": [
    "module",
    "function",
    "builtin_function_or_method",
    "instance",
    "_Feature"
   ],
   "window_display": false
  }
 },
 "nbformat": 4,
 "nbformat_minor": 1
}
